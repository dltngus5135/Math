{
  "nbformat": 4,
  "nbformat_minor": 0,
  "metadata": {
    "colab": {
      "name": "공학수학2 과제.ipynb",
      "provenance": [],
      "collapsed_sections": [],
      "include_colab_link": true
    },
    "kernelspec": {
      "name": "python3",
      "display_name": "Python 3"
    }
  },
  "cells": [
    {
      "cell_type": "markdown",
      "metadata": {
        "id": "view-in-github",
        "colab_type": "text"
      },
      "source": [
        "<a href=\"https://colab.research.google.com/github/dltngus5135/Math/blob/master/%EA%B3%B5%ED%95%99%EC%88%98%ED%95%992_%EA%B3%BC%EC%A0%9C.ipynb\" target=\"_parent\"><img src=\"https://colab.research.google.com/assets/colab-badge.svg\" alt=\"Open In Colab\"/></a>"
      ]
    },
    {
      "cell_type": "markdown",
      "metadata": {
        "id": "Tuo2qvjgGv-t",
        "colab_type": "text"
      },
      "source": [
        "## Laplace's Equation in the Sphere"
      ]
    },
    {
      "cell_type": "markdown",
      "metadata": {
        "id": "fl4ch_hwG3Cx",
        "colab_type": "text"
      },
      "source": [
        ">$\\begin{align*}\n",
        " u_{rr} +\\frac{2}{r} u_r &+\\frac{1}{r^2}u_{\\phi\\phi} +\\frac{\\cot\\phi}{r^2} u_{\\phi} +\\frac{1}{r^2\\sin^2\\phi}u_{\\theta\\theta} = 0, \\;\\; r < R \\\\ \n",
        " u(R,\\phi,\\theta) &= g(\\phi,\\theta)\\\\ \n",
        "\\end{align*}$\n",
        "\\\n",
        "\\\n",
        "\\\n",
        "(a)\n",
        "변수분리를 하면\n",
        "\n",
        ">$\\begin{align*}\n",
        " u(R,\\phi,\\theta) &= R(r)\\Phi(\\phi)\\Theta(\\theta) \\\\\n",
        "\\end{align*}$\n",
        "\n",
        ">$\\begin{align*}\n",
        " R_{rr}\\Phi\\Theta + \\frac{2}{r}R_{r}\\Phi\\Theta + \\frac{1}{{r^2}\\sin^2\\phi}\\Theta_{\\theta\\theta}\\Phi\\ R + \\frac{\\cos\\phi}{{r^2}\\sin\\phi}\\Phi_{\\phi}\\Theta\\ R + \\frac{1}{r^2}\\Phi_{\\phi\\phi}\\Theta\\ R = 0\n",
        " \\end{align*}$"
      ]
    },
    {
      "cell_type": "markdown",
      "metadata": {
        "id": "jJOFbQpkQcXN",
        "colab_type": "text"
      },
      "source": [
        ">$\\begin{align*}\n",
        "(\\frac{r^2\\sin^2\\phi}{R} R_{rr} + \\frac{2rsin^2\\phi}{R}R_{r}) + (\\frac{1}{\\Theta}\\Theta_{\\theta\\theta}) + (\\frac{\\cos\\phi \\sin\\phi}{\\Phi}\\Phi_{\\phi} + \\frac{sin^2\\phi}{\\Phi}\\Phi_{\\phi\\phi})\n",
        " \\end{align*}$ = 0\n",
        "\\\n",
        "\\\n",
        ">$\\begin{align*}\n",
        "\\frac{1}{\\Theta}\\Theta_{\\theta\\theta} = -m^2\n",
        "\\Theta(\\theta) = A_{m}e^{-im\\theta}\n",
        " \\end{align*}$\n",
        "\\\n",
        "\\\n",
        ">$\\begin{align*}\n",
        "\\Theta(\\theta) = B_{m}\\sin(m\\theta) + C_{m}\\cos(m\\theta)\n",
        " \\end{align*}$"
      ]
    },
    {
      "cell_type": "markdown",
      "metadata": {
        "id": "Fyxj-nXWTuuH",
        "colab_type": "text"
      },
      "source": [
        ">$\\begin{align*}\n",
        "\\frac{r^2}{R}R_{rr} + \\frac{2r}{R}R_{r} + \\frac{1}{\\sin^2\\phi}(\\frac{\\cos\\phi\\sin\\phi}{\\Phi}\\Phi_{\\phi} + \\frac{sin^2\\phi}{\\Phi}\\Phi_{\\phi\\phi} - m^2) = 0\n",
        " \\end{align*}$\n",
        "\\\n",
        "\\\n",
        "\\\n",
        "\\\n",
        ">$\\begin{align*}\n",
        "\\frac{r^2}{R}R_{rr} + \\frac{2r}{R}R_{r} = \\lambda\n",
        " \\end{align*}$\n",
        "\\\n",
        "\\\n",
        ">$\\begin{align*}\n",
        "{r^2}R_{rr} + 2rR_{r} = \\lambda R\n",
        " \\end{align*}$"
      ]
    },
    {
      "cell_type": "markdown",
      "metadata": {
        "id": "Z_DG55F0T_fO",
        "colab_type": "text"
      },
      "source": [
        ">$\\begin{align*}\n",
        "\\lambda = n(n+1)\n",
        " \\end{align*}$\n",
        " 이므로\n",
        " \\\n",
        " \\\n",
        " >$\\begin{align*}\n",
        " R_{n}(r) = A_{n}r^n + B_{n}r^{-n-1}\n",
        "  \\end{align*}$\n",
        "  \\\n",
        "  \\\n",
        "  >$\\begin{align*}\n",
        "  (1-x^2)\\frac{d^2P}{dx^2} - 2x\\frac{dp}{dx} + n(n+1)P\n",
        " = 0\n",
        "  \\end{align*}$\n",
        "  \\\n",
        "  \\\n",
        "  >$\\begin{align*}\n",
        "  n(n+1) - \\frac{m^2}{\\sin^2\\phi} + \\frac{\\cos\\phi}{\\sin\\phi}\\frac{1}{\\Phi}\\Phi_{\\phi} + \\frac{1}{\\Phi}\\Phi_{\\phi\\phi} = 0\n",
        " \\end{align*}$\n",
        "  \\\n",
        "  \\\n",
        " >$\\begin{align*}\n",
        "  \\Phi_{\\phi\\phi} + \\frac{\\cos\\phi}{\\sin\\phi}\\Phi_{\\phi} + [n(n+1)-\\frac{m^2}{\\sin^2\\phi}]\\Phi = 0\n",
        "   \\end{align*}$"
      ]
    },
    {
      "cell_type": "markdown",
      "metadata": {
        "id": "yzdXq30FT_qt",
        "colab_type": "text"
      },
      "source": [
        " m = 0,1,...,n \n",
        " \\\n",
        " >$\\begin{align*}\n",
        " u = \\Sigma^{\\infty}_{n=0} \\Sigma^{n}_{m=-n}(A_{n}r^n + B_{n}r^{-n-1})p_{n}^{m}(\\cos\\phi)e^{-nm\\theta}\n",
        " \\end{align*}$\n",
        " \\\n",
        " \\\n",
        " \\\n",
        " \\\n",
        "  >$\\begin{align*}\n",
        "  g = \\Sigma^{\\infty}_{n=0} \\Sigma^{n}_{m=-n}(A_{n}R^n + B_{n}R^{-n-1})p_{n}^{m}(\\cos\\phi)e^{-nm\\theta}\n",
        " \\end{align*}$"
      ]
    }
  ]
}